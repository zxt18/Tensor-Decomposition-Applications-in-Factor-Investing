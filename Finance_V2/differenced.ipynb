{
 "cells": [
  {
   "cell_type": "code",
   "execution_count": 1,
   "metadata": {},
   "outputs": [],
   "source": [
    "import pandas as pd \n",
    "import numpy as np\n",
    "import tensorly as tl\n",
    "import plotly.express as px\n",
    "import matplotlib.pyplot as plt \n",
    "from tensorly.decomposition import CP,tucker, parafac, non_negative_tucker\n",
    "from datetime import timedelta, date"
   ]
  },
  {
   "cell_type": "code",
   "execution_count": 36,
   "metadata": {},
   "outputs": [],
   "source": [
    "# df_FR = pd.read_excel('FINANCIAL_RATIOS_f.xlsx', index_col =[0])\n",
    "# price = None\n",
    "FR_dic = {}\n",
    "FR_list = ['PE', 'PX_LAST', 'PS','PB']\n",
    "n = 0 \n",
    "NUMBER_OF_STOCKS = 220\n",
    "for i,name in enumerate(FR_list) : \n",
    "    FR_dic[name] = (df_FR.iloc[:,n:n+NUMBER_OF_STOCKS]\n",
    "                    .set_index(df_FR.index)\n",
    "                    )\n",
    "\n",
    "    # if name not in ['PX_LAST', 'MCAP'] : \n",
    "        # FR_dic[name] = (FR_dic[name] - FR_dic[name].mean()) / FR_dic[name].std()\n",
    "        \n",
    "    if name in ['PX_LAST'] :\n",
    "\n",
    "        price = FR_dic['PX_LAST']\n",
    "        FR_dic[name] = np.log(FR_dic[name])\n",
    "        FR_dic[name] = FR_dic[name].diff()\n",
    "    \n",
    "\n",
    "    \n",
    "    FR_dic[name] = FR_dic[name][1:]\n",
    "    n += NUMBER_OF_STOCKS + 2\n",
    "\n",
    "COLUMN_NAMES = FR_dic['PE'].columns\n",
    "FR_index = FR_dic['PE'].index\n",
    "\n"
   ]
  },
  {
   "cell_type": "code",
   "execution_count": null,
   "metadata": {},
   "outputs": [],
   "source": [
    "df_TI = pd.read_excel('TECH_NEW.xlsx', skiprows=[0])\n",
    "\n",
    "TI_dic = {}\n",
    "TI_list = ['BB_PERCENT', 'HURST', 'MOM', 'ROC','RSI','WLPR']\n",
    "n = 1\n",
    "\n",
    "for _, TI in enumerate(TI_list) : \n",
    "    filter_col = [col for col in df_TI if col.startswith(TI)]\n",
    "    TI_dic[TI] = (df_TI[filter_col]\n",
    "                 .set_axis(COLUMN_NAMES, axis=1)\n",
    "                 .set_index(df_TI['Dates'])\n",
    "                 .iloc[:-1]\n",
    "                 .fillna(method = 'ffill')\n",
    "                 .set_index(FR_index)\n",
    "                 )\n",
    "    # TI_dic[TI] = (TI_dic[TI] - TI_dic[TI].mean()) / TI_dic[TI].std()\n",
    "TI_dic.pop('ROC', None)\n",
    "TI_dic.pop('WLPR', None)\n",
    "TI_dic.pop('BB_PERCENT', None)"
   ]
  },
  {
   "cell_type": "code",
   "execution_count": 37,
   "metadata": {},
   "outputs": [],
   "source": [
    "solo_df = pd.DataFrame()\n",
    "\n",
    "test_company = 'AMAT'\n",
    "k = 0\n",
    "for key,value in FR_dic.items() : \n",
    "    if k == 0 : \n",
    "        solo_df[key] = value[f'{test_company} US Equity']\n",
    "    if k > 0 : \n",
    "        solo_df[key] = value[f'{test_company} US Equity'+ f'.{k}']\n",
    "    k+=1\n",
    "\n",
    "for key,value in TI_dic.items() : \n",
    "    solo_df[key] = value[f'{test_company} US Equity']\n",
    "\n",
    "look_back_duration = 2\n",
    "look_forward = 2"
   ]
  },
  {
   "cell_type": "code",
   "execution_count": null,
   "metadata": {},
   "outputs": [],
   "source": [
    "look_back_duration = 2\n",
    "look_forward = 2"
   ]
  },
  {
   "cell_type": "code",
   "execution_count": 44,
   "metadata": {},
   "outputs": [
    {
     "name": "stdout",
     "output_type": "stream",
     "text": [
      "(808, 1)\n"
     ]
    }
   ],
   "source": [
    "for col in FR_dic['PX_LAST'] : \n",
    "    if col.startswith(test_company) : \n",
    "        y_predict = FR_dic['PX_LAST'][col]\n",
    "\n",
    "test_comp_returns = pd.DataFrame(y_predict).set_axis(['Log Returns'], axis = 1)\n",
    "test_comp_returns['Cumulative Log Returns'] = test_comp_returns['Log Returns'].cumsum()\n",
    "def get_n_week_retuns(log_returns, look_back_duration, lookforward) : \n",
    "    sdate = test_comp_returns.index.values[0]\n",
    "    edate = test_comp_returns.index.values[-1]\n",
    "    s = (log_returns\n",
    "     .reset_index()\n",
    "     .iloc[look_back_duration:]\n",
    "    )\n",
    "    n_week_retuns = s.rolling(lookforward).sum()\n",
    "    n_week_retuns.index = list(pd.date_range(sdate ,edate + pd.to_timedelta(2, unit='D') ,freq='w') - pd.to_timedelta(2, unit='D'))[:-look_back_duration]\n",
    "    return n_week_retuns.dropna() \n",
    "\n",
    "\n",
    "def to_simple_return(cum_log_ret) : \n",
    "    return np.exp(cum_log_ret) - 1\n",
    "\n",
    "y_ret_list = [] \n",
    "look_back_list =  [look_back_duration] #how many periods we look back\n",
    "look_f_list = [2,3] # how many periods we look forward\n",
    "for i in range(len(look_back_list)) :\n",
    "    # for j in range(len(look_f_list)) :\n",
    "    for j in range(1) :  \n",
    "        tmp = get_n_week_retuns(test_comp_returns['Log Returns'], look_back_duration = look_back_list[i], lookforward = look_f_list[j])\n",
    "        print(tmp.shape)\n",
    "        y_ret_list.append(tmp)\n"
   ]
  },
  {
   "cell_type": "code",
   "execution_count": 46,
   "metadata": {},
   "outputs": [
    {
     "data": {
      "text/html": [
       "<div>\n",
       "<style scoped>\n",
       "    .dataframe tbody tr th:only-of-type {\n",
       "        vertical-align: middle;\n",
       "    }\n",
       "\n",
       "    .dataframe tbody tr th {\n",
       "        vertical-align: top;\n",
       "    }\n",
       "\n",
       "    .dataframe thead th {\n",
       "        text-align: right;\n",
       "    }\n",
       "</style>\n",
       "<table border=\"1\" class=\"dataframe\">\n",
       "  <thead>\n",
       "    <tr style=\"text-align: right;\">\n",
       "      <th></th>\n",
       "      <th>Log Returns</th>\n",
       "    </tr>\n",
       "  </thead>\n",
       "  <tbody>\n",
       "    <tr>\n",
       "      <th>2006-11-24</th>\n",
       "      <td>-0.002703</td>\n",
       "    </tr>\n",
       "    <tr>\n",
       "      <th>2006-12-01</th>\n",
       "      <td>0.022310</td>\n",
       "    </tr>\n",
       "    <tr>\n",
       "      <th>2006-12-08</th>\n",
       "      <td>-0.016926</td>\n",
       "    </tr>\n",
       "    <tr>\n",
       "      <th>2006-12-15</th>\n",
       "      <td>0.017496</td>\n",
       "    </tr>\n",
       "    <tr>\n",
       "      <th>2006-12-22</th>\n",
       "      <td>0.027697</td>\n",
       "    </tr>\n",
       "    <tr>\n",
       "      <th>...</th>\n",
       "      <td>...</td>\n",
       "    </tr>\n",
       "    <tr>\n",
       "      <th>2022-04-15</th>\n",
       "      <td>-0.026911</td>\n",
       "    </tr>\n",
       "    <tr>\n",
       "      <th>2022-04-22</th>\n",
       "      <td>-0.002663</td>\n",
       "    </tr>\n",
       "    <tr>\n",
       "      <th>2022-04-29</th>\n",
       "      <td>0.013591</td>\n",
       "    </tr>\n",
       "    <tr>\n",
       "      <th>2022-05-06</th>\n",
       "      <td>-0.055184</td>\n",
       "    </tr>\n",
       "    <tr>\n",
       "      <th>2022-05-13</th>\n",
       "      <td>0.065901</td>\n",
       "    </tr>\n",
       "  </tbody>\n",
       "</table>\n",
       "<p>808 rows × 1 columns</p>\n",
       "</div>"
      ],
      "text/plain": [
       "            Log Returns\n",
       "2006-11-24    -0.002703\n",
       "2006-12-01     0.022310\n",
       "2006-12-08    -0.016926\n",
       "2006-12-15     0.017496\n",
       "2006-12-22     0.027697\n",
       "...                 ...\n",
       "2022-04-15    -0.026911\n",
       "2022-04-22    -0.002663\n",
       "2022-04-29     0.013591\n",
       "2022-05-06    -0.055184\n",
       "2022-05-13     0.065901\n",
       "\n",
       "[808 rows x 1 columns]"
      ]
     },
     "execution_count": 46,
     "metadata": {},
     "output_type": "execute_result"
    }
   ],
   "source": [
    "get_n_week_retuns(test_comp_returns['Log Returns'], look_back_duration, look_forward)"
   ]
  },
  {
   "cell_type": "code",
   "execution_count": 41,
   "metadata": {},
   "outputs": [
    {
     "name": "stdout",
     "output_type": "stream",
     "text": [
      "(811, 220, 10)\n",
      "0.11896161195495776\n"
     ]
    }
   ],
   "source": [
    "import sys\n",
    "import numpy as np \n",
    "np.set_printoptions(threshold=sys.maxsize)\n",
    "\n",
    "# FR_dic.pop('PX_LAST',None)\n",
    "ft1 =  np.stack(FR_dic.values(), axis=2)\n",
    "ft2 = np.stack(TI_dic.values(), axis=2)\n",
    "\n",
    "feature_tensor = np.dstack((ft1, ft2))\n",
    "\n",
    "\n",
    "# There is 813 datasets to train on\n",
    "# We first apply the tucker decomposition and then vectorize the values.\n",
    "\n",
    "    \n",
    "print(feature_tensor.shape)\n",
    "core, factors = tucker(feature_tensor, rank= [811,100,6]) # 711 time, 20 stocks, 9 \n",
    "pc = tl.tenalg.mode_dot(feature_tensor, factors[1].T, mode = 1)\n",
    "\n",
    "\n",
    "rec = tl.tucker_to_tensor((core,factors))\n",
    "rec_error = tl.norm(rec - feature_tensor)/tl.norm(feature_tensor)\n",
    "print(rec_error)\n",
    "\n",
    "\n",
    "\n",
    "list_of_features = [] #Split the features into different look_back_duration time slots. \n",
    "for i in range(0,len(feature_tensor)-look_back_duration-look_forward+1) : \n",
    "    list_of_features.append(feature_tensor[i:i+look_back_duration, :,:])\n",
    "\n",
    "\n",
    "\n",
    "list_of_solo_f = []\n",
    "#SOLO FEATURES FOR AAPL\n",
    "for i in range(0,len(solo_df)-look_back_duration-look_forward+1) : \n",
    "    list_of_solo_f.append(solo_df[i:i+look_back_duration].to_numpy())"
   ]
  },
  {
   "cell_type": "code",
   "execution_count": 42,
   "metadata": {},
   "outputs": [
    {
     "data": {
      "text/plain": [
       "Text(0, 0.5, 'Reconstruction error')"
      ]
     },
     "execution_count": 42,
     "metadata": {},
     "output_type": "execute_result"
    },
    {
     "data": {
      "image/png": "[encoded data removed]",
      "text/plain": [
       "<Figure size 432x288 with 1 Axes>"
      ]
     },
     "metadata": {
      "needs_background": "light"
     },
     "output_type": "display_data"
    }
   ],
   "source": [
    "# import sys\n",
    "# import numpy as np \n",
    "# np.set_printoptions(threshold=sys.maxsize)\n",
    "\n",
    "ft1 =  np.stack(FR_dic.values(), axis=2)\n",
    "ft2 = np.stack(TI_dic.values(), axis=2)\n",
    "feature_tensor = np.dstack((ft1, ft2))\n",
    "\n",
    "error_list = []\n",
    "for n in np.arange(1,150,2) : \n",
    "    core, factors = tucker(feature_tensor, rank= [711,n,6])\n",
    "    pc = tl.tenalg.mode_dot(feature_tensor, factors[1].T, mode = 1)\n",
    "    rec = tl.tucker_to_tensor((core,factors))\n",
    "    rec_error = tl.norm(rec - feature_tensor)/tl.norm(feature_tensor)\n",
    "    error_list.append(rec_error)\n",
    "fig, ax = plt.subplots(1)\n",
    "ax.plot(np.arange(1,150,2), error_list)\n",
    "ax.scatter(np.arange(1,150,2), error_list)\n",
    "ax.grid('On')\n",
    "ax.set_title(\"Reconstruction error against number of companies\")\n",
    "ax.set_xlabel(\"Rank\")\n",
    "ax.set_ylabel(\"Reconstruction error\")"
   ]
  },
  {
   "cell_type": "code",
   "execution_count": null,
   "metadata": {},
   "outputs": [],
   "source": [
    "# x_ret_list contains the \n",
    "y_train_list = [] \n",
    "\n",
    "for y_train in y_ret_list : \n",
    "    y_arr = y_train.values\n",
    "    y_arr = y_arr.flatten()\n",
    "    y_arr[(y_arr > 0)] = 1\n",
    "\n",
    "    y_arr[y_arr <= 0] = -1\n",
    "\n",
    "    y_train_list.append(y_arr)\n",
    "\n",
    "\n",
    "list_of_combined_features = []\n",
    "for feature_t,solo_feature in zip(list_of_features,list_of_solo_f)  :\n",
    "    solo_feature = solo_feature[:,newaxis,:]\n",
    "    tmp = np.concatenate((feature_t,solo_feature), axis=1)\n",
    "    list_of_combined_features.append(tmp)\n",
    "\n",
    "# ans = [np.stack([feature_t,solo_feature],axis=2)   for feature_t,solo_feature in zip(list_of_decomposed_features,list_of_solo_f)]\n",
    "# print(ans[0].shape)\n",
    "X_Cols = [tensor.flatten() for tensor in list_of_features ]\n",
    "\n",
    "S_Cols = [mat.flatten() for mat in list_of_solo_f]\n",
    "\n",
    "C_Cols = [tensor.flatten() for tensor in list_of_combined_features]\n",
    "\n",
    "X_Cols, S_Cols, C_Cols = X_Cols[:-120], S_Cols[:-120] , C_Cols[:-120]\n",
    "\n",
    "\n",
    "y_train_list[0] = y_train_list[0][:-120]\n",
    "\n",
    "X_val, S_val, C_val, Y_val = X_Cols[-120:], S_Cols[-120:], C_Cols[-120:], y_train_list[0][-120:]\n"
   ]
  }
 ],
 "metadata": {
  "interpreter": {
   "hash": "1e2c2ee5cf96267dcc7744f326d3a9b930733ff27582ed4f98f71c09c9039794"
  },
  "kernelspec": {
   "display_name": "Python 3.9.7 ('base')",
   "language": "python",
   "name": "python3"
  },
  "language_info": {
   "codemirror_mode": {
    "name": "ipython",
    "version": 3
   },
   "file_extension": ".py",
   "mimetype": "text/x-python",
   "name": "python",
   "nbconvert_exporter": "python",
   "pygments_lexer": "ipython3",
   "version": "3.9.7"
  },
  "orig_nbformat": 4
 },
 "nbformat": 4,
 "nbformat_minor": 2
}
