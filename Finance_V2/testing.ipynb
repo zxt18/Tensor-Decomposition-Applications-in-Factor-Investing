{
 "cells": [
  {
   "cell_type": "code",
   "execution_count": 431,
   "metadata": {},
   "outputs": [],
   "source": [
    "import numpy as np \n",
    "import tensorly as tl\n",
    "from tensorly.decomposition import CP, parafac, tucker, non_negative_tucker"
   ]
  },
  {
   "cell_type": "code",
   "execution_count": 475,
   "metadata": {},
   "outputs": [
    {
     "name": "stdout",
     "output_type": "stream",
     "text": [
      "[[[ 1. 10.]\n",
      "  [ 1. 10.]\n",
      "  [ 1. 10.]\n",
      "  [ 1. 10.]\n",
      "  [ 1.  1.]]\n",
      "\n",
      " [[ 1. 10.]\n",
      "  [ 1. 10.]\n",
      "  [ 1. 10.]\n",
      "  [ 1. 10.]\n",
      "  [ 1.  0.]]\n",
      "\n",
      " [[ 1. 30.]\n",
      "  [ 1. 30.]\n",
      "  [ 1. 30.]\n",
      "  [ 1. 30.]\n",
      "  [ 1.  1.]]\n",
      "\n",
      " [[ 1. 30.]\n",
      "  [ 1. 30.]\n",
      "  [ 1. 30.]\n",
      "  [ 1. 30.]\n",
      "  [ 1.  1.]]]\n"
     ]
    },
    {
     "data": {
      "image/png": "[encoded data removed]",
      "text/plain": [
       "<Figure size 432x288 with 1 Axes>"
      ]
     },
     "metadata": {
      "needs_background": "light"
     },
     "output_type": "display_data"
    },
    {
     "data": {
      "image/png": "[encoded data removed]",
      "text/plain": [
       "<Figure size 432x288 with 1 Axes>"
      ]
     },
     "metadata": {
      "needs_background": "light"
     },
     "output_type": "display_data"
    }
   ],
   "source": [
    "\n",
    "\n",
    "\n",
    "arr = np.ones((4, 5, 2))\n",
    "arr[0,0,1] = 10\n",
    "arr[0,1,1] = 10\n",
    "arr[0,2,1] = 10\n",
    "arr[0,3,1] = 10\n",
    "\n",
    "\n",
    "arr[1,0,1] = 20\n",
    "arr[1,1,1] = 20\n",
    "arr[1,2,1] = 20\n",
    "arr[1,3,1] = 20\n",
    "\n",
    "arr[2,0,1] = 30\n",
    "arr[2,1,1] = 30\n",
    "arr[2,2,1] = 30\n",
    "arr[2,3,1] = 30\n",
    "\n",
    "arr[3,0,1] = 30\n",
    "arr[3,1,1] = 30\n",
    "arr[3,2,1] = 30\n",
    "arr[3,3,1] = 30\n",
    "\n",
    "\n",
    "for n in range(5) :\n",
    "    plt.plot(arr[:,n,1])\n",
    "arr[1,:,1] = arr[1,:,1] - arr[0,:,1]\n",
    "\n",
    "\n",
    "print(arr)\n",
    "plt.figure()\n",
    "for n in range(5) :\n",
    "    plt.plot(arr[:,n,1])"
   ]
  },
  {
   "cell_type": "code",
   "execution_count": 461,
   "metadata": {},
   "outputs": [
    {
     "name": "stdout",
     "output_type": "stream",
     "text": [
      "[array([[ 7.99041993e-01,  3.05060945e-01, -5.18140631e-01,\n",
      "         1.27268005e-16],\n",
      "       [ 4.24934954e-01, -2.66428517e-01,  4.98443708e-01,\n",
      "        -7.07106781e-01],\n",
      "       [ 1.98106834e-02, -8.74625354e-01, -4.84394495e-01,\n",
      "        -1.73472348e-17],\n",
      "       [ 4.24934954e-01, -2.66428517e-01,  4.98443708e-01,\n",
      "         7.07106781e-01]]), array([[ 5.00580730e-01, -1.35323292e-02, -2.87348468e-01,\n",
      "         4.79489695e-01],\n",
      "       [ 5.00580730e-01, -1.35323292e-02, -2.87348468e-01,\n",
      "         3.32590041e-01],\n",
      "       [ 5.00580730e-01, -1.35323292e-02, -2.87348468e-01,\n",
      "        -8.12079736e-01],\n",
      "       [ 4.96815713e-01, -3.51679172e-02,  8.67143220e-01,\n",
      "         2.22044605e-16],\n",
      "       [ 1.54431517e-02,  4.07883530e-01,  7.69424658e-03,\n",
      "        -8.67361738e-18],\n",
      "       [ 1.54431517e-02,  4.07883530e-01,  7.69424658e-03,\n",
      "        -8.67361738e-18],\n",
      "       [ 1.54431517e-02,  4.07883530e-01,  7.69424658e-03,\n",
      "        -8.67361738e-18],\n",
      "       [ 1.54431517e-02,  4.07883530e-01,  7.69424658e-03,\n",
      "        -8.67361738e-18],\n",
      "       [ 1.54431517e-02,  4.07883530e-01,  7.69424658e-03,\n",
      "        -8.67361738e-18],\n",
      "       [ 1.54431517e-02,  4.07883530e-01,  7.69424658e-03,\n",
      "        -8.67361738e-18]]), array([[-0.03149828,  0.99950381],\n",
      "       [-0.99950381, -0.03149828]])]\n",
      "(4, 4, 2)\n",
      "(4, 4)\n",
      "(10, 4)\n",
      "(2, 2)\n"
     ]
    }
   ],
   "source": [
    "import matplotlib.pyplot as plt\n",
    "\n",
    "# (weight,factors) = parafac(arr,2)\n",
    "# print(weight)\n",
    "# factors\n",
    "\n",
    "\n",
    "core, factors =tucker(arr, rank=[4,4,2])\n",
    "print(factors)\n",
    "pc = tl.tenalg.mode_dot(arr,factors[1].T, mode = 1)\n",
    "\n",
    "pc2 = tl.tenalg.mode_dot(core,factors[1], mode = 1)\n",
    "\n",
    "\n",
    "print(core.shape)\n",
    "\n",
    "print(factors[0].shape)\n",
    "print(factors[1].shape)\n",
    "print(factors[2].shape)\n",
    "\n",
    "\n",
    "# for n in np.arange(1,5,1) : \n",
    "#     core, factors =tucker(arr, rank=[3,n,3])\n",
    "#     rec = tl.tucker_to_tensor((core,factors))\n",
    "#     rec_error = tl.norm(rec - arr)/tl.norm(arr)\n",
    "#     error_list.append(rec_error)\n",
    "\n",
    "# plt.plot(np.arange(1,5,1), error_list)\n",
    "\n"
   ]
  },
  {
   "cell_type": "code",
   "execution_count": null,
   "metadata": {},
   "outputs": [],
   "source": []
  }
 ],
 "metadata": {
  "interpreter": {
   "hash": "1e2c2ee5cf96267dcc7744f326d3a9b930733ff27582ed4f98f71c09c9039794"
  },
  "kernelspec": {
   "display_name": "Python 3.9.7 ('base')",
   "language": "python",
   "name": "python3"
  },
  "language_info": {
   "codemirror_mode": {
    "name": "ipython",
    "version": 3
   },
   "file_extension": ".py",
   "mimetype": "text/x-python",
   "name": "python",
   "nbconvert_exporter": "python",
   "pygments_lexer": "ipython3",
   "version": "3.9.7"
  },
  "orig_nbformat": 4
 },
 "nbformat": 4,
 "nbformat_minor": 2
}
